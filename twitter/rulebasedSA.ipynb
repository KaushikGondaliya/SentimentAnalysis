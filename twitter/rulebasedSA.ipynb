{
 "cells": [
  {
   "cell_type": "code",
   "execution_count": 183,
   "metadata": {
    "collapsed": true
   },
   "outputs": [],
   "source": [
    "import tweepy\n",
    "import pandas as pd\n",
    "import numpy as np      # For number computing\n",
    "import nltk\n",
    "import re\n",
    "from nltk.sentiment.vader import SentimentIntensityAnalyzer\n",
    "from wordcloud import WordCloud, STOPWORDS\n",
    "import matplotlib.pyplot as plt\n",
    "%matplotlib inline"
   ]
  },
  {
   "cell_type": "code",
   "execution_count": 184,
   "metadata": {},
   "outputs": [],
   "source": [
    "# We import our access keys:\n",
    "from credentials import *    # This will allow us to use the keys as variables\n",
    "\n",
    "# API's setup:\n",
    "def twitter_setup_tweepy():\n",
    "    \"\"\"\n",
    "    Utility function to setup the Twitter's API\n",
    "    with our access keys provided.\n",
    "    \"\"\"\n",
    "    # Authentication and access using keys:\n",
    "    auth = tweepy.OAuthHandler(CONSUMER_KEY, CONSUMER_SECRET)\n",
    "    auth.set_access_token(ACCESS_TOKEN, ACCESS_SECRET)\n",
    "\n",
    "    # Return API with authentication:\n",
    "    api = tweepy.API(auth)\n",
    "    return api"
   ]
  },
  {
   "cell_type": "code",
   "execution_count": 185,
   "metadata": {},
   "outputs": [],
   "source": [
    "def twitter_setup_twiter():\n",
    "    return twitter.Api(consumer_key=CONSUMER_KEY,\n",
    "                      consumer_secret=CONSUMER_SECRET,\n",
    "                      access_token_key=ACCESS_TOKEN,\n",
    "                      access_token_secret=ACCESS_SECRET)"
   ]
  },
  {
   "cell_type": "code",
   "execution_count": 186,
   "metadata": {},
   "outputs": [],
   "source": [
    "# perprocess tweet text data\n",
    "def preprocess_tweet(tweet):\n",
    "    # Remove URLs \n",
    "    tweet = re.sub(r'((www\\.[\\S]+)|(https?://[\\S]+))', '', tweet)\n",
    "    # Remove @handle\n",
    "    tweet = re.sub(r'@[\\S]+', '', tweet)\n",
    "    # Remove #hashtag with \n",
    "    tweet = re.sub(r'#(\\S+)', '', tweet)\n",
    "    # Remove RT (retweet)\n",
    "    tweet = re.sub(r'\\brt\\b', '', tweet)\n",
    "    # Remove RT (retweet)\n",
    "    tweet = re.sub(r'\\bRT\\b', '', tweet)\n",
    "    # Strip space, \" and ' from tweet\n",
    "    tweet = tweet.strip(' \"\\'')\n",
    "    # Replace 2+ dots with space\n",
    "    tweet = re.sub(r'\\.{2,}', ' ', tweet)\n",
    "    # Replace multiple spaces with a single space\n",
    "    tweet = re.sub(r'\\s+', ' ', tweet)\n",
    "    return tweet\n"
   ]
  },
  {
   "cell_type": "code",
   "execution_count": 187,
   "metadata": {},
   "outputs": [],
   "source": [
    "# how to get credentials for twitter API\n",
    "# \n",
    "# create file credentials.py with following details\n",
    "\n",
    "# Consume:\n",
    "#CONSUMER_KEY    = ''\n",
    "#CONSUMER_SECRET = ''\n",
    "\n",
    "# Access:\n",
    "#ACCESS_TOKEN  = ''\n",
    "#ACCESS_SECRET = ''"
   ]
  },
  {
   "cell_type": "code",
   "execution_count": 188,
   "metadata": {},
   "outputs": [
    {
     "data": {
      "text/html": [
       "<div>\n",
       "<style scoped>\n",
       "    .dataframe tbody tr th:only-of-type {\n",
       "        vertical-align: middle;\n",
       "    }\n",
       "\n",
       "    .dataframe tbody tr th {\n",
       "        vertical-align: top;\n",
       "    }\n",
       "\n",
       "    .dataframe thead th {\n",
       "        text-align: right;\n",
       "    }\n",
       "</style>\n",
       "<table border=\"1\" class=\"dataframe\">\n",
       "  <thead>\n",
       "    <tr style=\"text-align: right;\">\n",
       "      <th></th>\n",
       "      <th>Tweets</th>\n",
       "    </tr>\n",
       "  </thead>\n",
       "  <tbody>\n",
       "    <tr>\n",
       "      <th>0</th>\n",
       "      <td>Dude. You don't even know the difference betwe...</td>\n",
       "    </tr>\n",
       "    <tr>\n",
       "      <th>1</th>\n",
       "      <td>Get to know e53rbody and plant that stadium a ...</td>\n",
       "    </tr>\n",
       "    <tr>\n",
       "      <th>2</th>\n",
       "      <td>Although my devices are all Apple, I cannot de...</td>\n",
       "    </tr>\n",
       "  </tbody>\n",
       "</table>\n",
       "</div>"
      ],
      "text/plain": [
       "<div>\n",
       "<style scoped>\n",
       "    .dataframe tbody tr th:only-of-type {\n",
       "        vertical-align: middle;\n",
       "    }\n",
       "\n",
       "    .dataframe tbody tr th {\n",
       "        vertical-align: top;\n",
       "    }\n",
       "\n",
       "    .dataframe thead th {\n",
       "        text-align: right;\n",
       "    }\n",
       "</style>\n",
       "<table border=\"1\" class=\"dataframe\">\n",
       "  <thead>\n",
       "    <tr style=\"text-align: right;\">\n",
       "      <th></th>\n",
       "      <th>Tweets</th>\n",
       "    </tr>\n",
       "  </thead>\n",
       "  <tbody>\n",
       "    <tr>\n",
       "      <th>0</th>\n",
       "      <td>Dude. You don't even know the difference betwe...</td>\n",
       "    </tr>\n",
       "    <tr>\n",
       "      <th>1</th>\n",
       "      <td>Get to know e53rbody and plant that stadium a ...</td>\n",
       "    </tr>\n",
       "    <tr>\n",
       "      <th>2</th>\n",
       "      <td>Although my devices are all Apple, I cannot de...</td>\n",
       "    </tr>\n",
       "  </tbody>\n",
       "</table>\n",
       "</div>"
      ]
     },
     "execution_count": 0,
     "metadata": {},
     "output_type": "execute_result"
    }
   ],
   "source": [
    "# setup twitter api \n",
    "import pprint\n",
    "api = twitter_setup_tweepy()\n",
    "tweets = api.search(q='apple', count=200, lang=\"en\", tweet_mode='extended')\n",
    "\n",
    "def getTextFromTweet(tweet1):\n",
    "    if 'retweeted_status' in tweet1._json:\n",
    "        return tweet1._json[\"retweeted_status\"][\"full_text\"]\n",
    "    else:\n",
    "        return tweet1._json[\"full_text\"]\n",
    "        \n",
    "        \n",
    "data = pd.DataFrame(data=[preprocess_tweet(getTextFromTweet(tweet)) for tweet in tweets], columns=['Tweets'])\n",
    "\n",
    "\n",
    "display(data.head(3))"
   ]
  },
  {
   "cell_type": "code",
   "execution_count": 189,
   "metadata": {
    "collapsed": true
   },
   "outputs": [
    {
     "name": "stderr",
     "output_type": "stream",
     "text": [
      "[nltk_data] Downloading package vader_lexicon to\n[nltk_data]     /Users/kgondaliya/nltk_data...\n[nltk_data]   Package vader_lexicon is already up-to-date!\n"
     ]
    }
   ],
   "source": [
    "nltk.download('vader_lexicon')\n",
    "sid = SentimentIntensityAnalyzer()\n",
    "\n",
    "def analize_sentiment_nltk(tweet):\n",
    "    '''\n",
    "    Utility function to classify the polarity of a tweet\n",
    "    using textblob.\n",
    "    '''\n",
    "    analysis_nltk = sid.polarity_scores(tweet)\n",
    "\n",
    "    return analysis_nltk\n",
    "    \n",
    "\n",
    "def getLabelfromPolarity(nltk_polarity):\n",
    "    '''\n",
    "    generate label \n",
    "    1 positive, 0 neutral, -1 negative\n",
    "    :return: \n",
    "    '''\n",
    "    res = max(nltk_polarity, key=nltk_polarity.get)\n",
    "    #if nltk_polarity[\"neu\"]== 1.0:\n",
    "    #    return 0\n",
    "    #elif nltk_polarity[\"pos\"] > nltk_polarity[\"neg\"]:\n",
    "    #    return 1\n",
    "    #else:\n",
    "    #    return -1\n",
    "    if res == \"pos\":\n",
    "     return 1\n",
    "    elif res == \"neu\":\n",
    "     return 0\n",
    "    else:\n",
    "     return -1\n"
   ]
  },
  {
   "cell_type": "code",
   "execution_count": 190,
   "metadata": {},
   "outputs": [],
   "source": [
    "## twitter analysis using TextBlob\n",
    "from textblob import TextBlob\n",
    "def analize_sentiment_textblob(tweet):\n",
    "    '''\n",
    "    Utility function to classify the polarity of a tweet\n",
    "    using textblob.\n",
    "    '''\n",
    "    analysis = TextBlob(tweet)\n",
    "    if analysis.sentiment.polarity > 0.1:\n",
    "        return 1\n",
    "    elif analysis.sentiment.polarity == 0:\n",
    "        return 0\n",
    "    else:\n",
    "        return -1"
   ]
  },
  {
   "cell_type": "code",
   "execution_count": 191,
   "metadata": {},
   "outputs": [],
   "source": [
    "# We create a column with the result of the analysis:\n",
    "data['SAtxtblob'] = np.array([ analize_sentiment_textblob(tweet) for tweet in data['Tweets'] ])\n",
    "\n",
    "# We create a column with the result of the analysis:\n",
    "data['SAnltkPol'] = np.array([ analize_sentiment_nltk(tweet) for tweet in data['Tweets'] ])\n",
    "\n",
    "# We create a column with the result of the analysis:\n",
    "data['SAnltk'] = np.array([ getLabelfromPolarity(nltkpol) for nltkpol in data['SAnltkPol'] ])\n",
    "\n",
    "data.to_csv(\"SA1.csv\", sep=\";\")\n",
    "# We construct lists with classified tweets:\n",
    "#pos_tweets = [ tweet for index, tweet in enumerate(data['Tweets']) if data['SATB'][index] > 0]\n",
    "#neu_tweets = [ tweet for index, tweet in enumerate(data['Tweets']) if data['SATB'][index] == 0]\n",
    "#neg_tweets = [ tweet for index, tweet in enumerate(data['Tweets']) if data['SATB'][index] < 0]\n"
   ]
  },
  {
   "cell_type": "code",
   "execution_count": 195,
   "metadata": {
    "collapsed": true
   },
   "outputs": [
    {
     "name": "stdout",
     "output_type": "stream",
     "text": [
      "(44, 4)\n(33, 4)\n"
     ]
    },
    {
     "data": {
      "text/html": [
       "<div>\n",
       "<style scoped>\n",
       "    .dataframe tbody tr th:only-of-type {\n",
       "        vertical-align: middle;\n",
       "    }\n",
       "\n",
       "    .dataframe tbody tr th {\n",
       "        vertical-align: top;\n",
       "    }\n",
       "\n",
       "    .dataframe thead th {\n",
       "        text-align: right;\n",
       "    }\n",
       "</style>\n",
       "<table border=\"1\" class=\"dataframe\">\n",
       "  <thead>\n",
       "    <tr style=\"text-align: right;\">\n",
       "      <th></th>\n",
       "      <th>Tweets</th>\n",
       "      <th>SAtxtblob</th>\n",
       "      <th>SAnltkPol</th>\n",
       "      <th>SAnltk</th>\n",
       "    </tr>\n",
       "  </thead>\n",
       "  <tbody>\n",
       "    <tr>\n",
       "      <th>0</th>\n",
       "      <td>Dude. You don't even know the difference betwe...</td>\n",
       "      <td>1</td>\n",
       "      <td>{'neg': 0.0, 'neu': 1.0, 'pos': 0.0, 'compound...</td>\n",
       "      <td>0</td>\n",
       "    </tr>\n",
       "    <tr>\n",
       "      <th>1</th>\n",
       "      <td>Get to know e53rbody and plant that stadium a ...</td>\n",
       "      <td>0</td>\n",
       "      <td>{'neg': 0.0, 'neu': 1.0, 'pos': 0.0, 'compound...</td>\n",
       "      <td>0</td>\n",
       "    </tr>\n",
       "    <tr>\n",
       "      <th>2</th>\n",
       "      <td>Although my devices are all Apple, I cannot de...</td>\n",
       "      <td>0</td>\n",
       "      <td>{'neg': 0.0, 'neu': 1.0, 'pos': 0.0, 'compound...</td>\n",
       "      <td>0</td>\n",
       "    </tr>\n",
       "    <tr>\n",
       "      <th>3</th>\n",
       "      <td>“Give me some sugar baby!!” 💋💋 Listen to the ‘...</td>\n",
       "      <td>1</td>\n",
       "      <td>{'neg': 0.0, 'neu': 0.935, 'pos': 0.065, 'comp...</td>\n",
       "      <td>0</td>\n",
       "    </tr>\n",
       "    <tr>\n",
       "      <th>4</th>\n",
       "      <td>I bought a mini many years back. My pogo stick...</td>\n",
       "      <td>1</td>\n",
       "      <td>{'neg': 0.0, 'neu': 0.811, 'pos': 0.189, 'comp...</td>\n",
       "      <td>-1</td>\n",
       "    </tr>\n",
       "  </tbody>\n",
       "</table>\n",
       "</div>"
      ],
      "text/plain": [
       "<div>\n",
       "<style scoped>\n",
       "    .dataframe tbody tr th:only-of-type {\n",
       "        vertical-align: middle;\n",
       "    }\n",
       "\n",
       "    .dataframe tbody tr th {\n",
       "        vertical-align: top;\n",
       "    }\n",
       "\n",
       "    .dataframe thead th {\n",
       "        text-align: right;\n",
       "    }\n",
       "</style>\n",
       "<table border=\"1\" class=\"dataframe\">\n",
       "  <thead>\n",
       "    <tr style=\"text-align: right;\">\n",
       "      <th></th>\n",
       "      <th>Tweets</th>\n",
       "      <th>SAtxtblob</th>\n",
       "      <th>SAnltkPol</th>\n",
       "      <th>SAnltk</th>\n",
       "    </tr>\n",
       "  </thead>\n",
       "  <tbody>\n",
       "    <tr>\n",
       "      <th>0</th>\n",
       "      <td>Dude. You don't even know the difference betwe...</td>\n",
       "      <td>1</td>\n",
       "      <td>{'neg': 0.0, 'neu': 1.0, 'pos': 0.0, 'compound...</td>\n",
       "      <td>0</td>\n",
       "    </tr>\n",
       "    <tr>\n",
       "      <th>1</th>\n",
       "      <td>Get to know e53rbody and plant that stadium a ...</td>\n",
       "      <td>0</td>\n",
       "      <td>{'neg': 0.0, 'neu': 1.0, 'pos': 0.0, 'compound...</td>\n",
       "      <td>0</td>\n",
       "    </tr>\n",
       "    <tr>\n",
       "      <th>2</th>\n",
       "      <td>Although my devices are all Apple, I cannot de...</td>\n",
       "      <td>0</td>\n",
       "      <td>{'neg': 0.0, 'neu': 1.0, 'pos': 0.0, 'compound...</td>\n",
       "      <td>0</td>\n",
       "    </tr>\n",
       "    <tr>\n",
       "      <th>3</th>\n",
       "      <td>“Give me some sugar baby!!” 💋💋 Listen to the ‘...</td>\n",
       "      <td>1</td>\n",
       "      <td>{'neg': 0.0, 'neu': 0.935, 'pos': 0.065, 'comp...</td>\n",
       "      <td>0</td>\n",
       "    </tr>\n",
       "    <tr>\n",
       "      <th>4</th>\n",
       "      <td>I bought a mini many years back. My pogo stick...</td>\n",
       "      <td>1</td>\n",
       "      <td>{'neg': 0.0, 'neu': 0.811, 'pos': 0.189, 'comp...</td>\n",
       "      <td>-1</td>\n",
       "    </tr>\n",
       "  </tbody>\n",
       "</table>\n",
       "</div>"
      ]
     },
     "execution_count": 195,
     "metadata": {},
     "output_type": "execute_result"
    }
   ],
   "source": [
    "print(data.loc[data['SAtxtblob']!=data['SAnltk']].shape)\n",
    "print(data.loc[data['SAtxtblob']==data['SAnltk']].shape)\n",
    "data.head(5)\n",
    "\n",
    "#display(data.loc[data['SATB']!=data['SANLTK']])\n",
    "#print(data.loc[2,\"Tweets\"])"
   ]
  },
  {
   "cell_type": "code",
   "execution_count": 196,
   "metadata": {},
   "outputs": [
    {
     "name": "stdout",
     "output_type": "stream",
     "text": [
      "Dude. You don't even know the difference between oranges and origins. Or Tim Apple and Tim Cook. Or where your own DAD was born. Why should anybody believe YOU over guys who are trained their whole lives to remember the tiniest details and take extemporaneous notes? SMDH. Get to know e53rbody and plant that stadium a hunnid apple bales Although my devices are all Apple, I cannot deal with Apple keyboard shortcuts. So PC. “Give me some sugar baby!!” 💋💋 Listen to the ‘chance’ story behind one of the most iconic lines from the franchise… Bruce Campbell shares the inception of this line and how it’s helped open doors for fans of the series globally → I bought a mini many years back. My pogo stick didn’t respond. So I bought a pro with pen. Thinking back, I bet the protector made my stylus unusable on my mini. I love the apple pen! Then my dog ate it! Wacom was great, then? Revenue last year: Apple: $265.6 billion Amazon: $232.9 billion Google: $136.8 billion Microsoft: $110.4 billion IBM: $79.6 billion Intel: $70.8 billion Facebook: $55.8 billion Tesla: $21.5 billion Netflix: $15.8 billion Uber: $11.3 billion Total: $1 trillion Beyoncé x Tay Keith really snapped on this. All day boys 👌🙏 20 Dark, Scary and Sad Short Stories - A.A Wray 4 Truths That Can Change Your Life - Wolfgang Riebe  Abstract : Download: If you like my job: &gt;&gt; Like, Follow, Retweet &lt;&lt; Prod. By  Use my link to install cred app and get 150 uber and 200 movie voucher free. You can pay all your crediy card bill at one place by this app and will get cash back directly to your credir card account on every transaction just like google pay. he drinks apple juice i stan the right man Putin, Trump, and a conspiracy decades in the making. is on Watch it now: If you're a creative and have a day job that funds your creative life, this episode will encourage you\"  🎭 Giveaway! FOLLOW &amp; to win this The Apple Tree Playbill signed by &amp; Like for an extra entry. 🍎 USA only. Must be following me to win! Winner will be chosen on 4/20. Good luck! Apple Watch authentication to get more Mac functions Read more:  Classic solitaire card game for iOS. Play for free!: This &gt;&gt;&gt;&gt; dreams and nightmares intro ‼️‼️‼️‼️‼️‼️‼️‼️‼️‼️‼️‼️. HELLO! STAN ENOi ! ♡ BLOOM MV : ~ LINKS : SPOTIFY : APPLE MUSIC : ~ FOLLOW THEM : INSTAGRAM : TWITTER : Now playing B KILL - CHECKIN SHIT Listen here:  No I don't want it in my neighborhood. I don't care if I'm am apple about it. I don't want my family near that crap. Set it up by police stations and hospitals. Hey, how about real help like rehab? Ffs. As promised hit shuffle and catch this vibe! Look at Blue supervising 💙 — photo from the booklet. Get it here: 🚨🚨Season 4 episode 9 we are back with another Masterpiece Apple podcast- SoundCloud- Sarah Huckabee Sanders blames “slip of the tongue” for misleading comments on Comey’s firing - POLITICO. Slip of the tongue for her, a lie for anyone else. SMFH If Dems Won’t Impeach, They Must Admit the GOP Is a Cancer - New York Magazine . say they want to collab with and Hear more with on Chart. I guarantee y’all don’t know shit! Apple blossom white  🌟🌟🌟NEW EPISODE ALERT🌟🌟🌟 WHOSE HOUSE? WES' HOUSE! OUT NOW ON ALL PLATFORMS!!! ☠iTunes: ☠Spotify: ☠SoundCloud:  🙈🙉💥New Episode💥 Leisure sports HOF. Board games, card games &amp; gambling. What sport would you go Pro in? Had a blast on the last night! Thanks for joining us! iTunes Google Play YouTube Mueller, the Clintons, and others involved with the fabricated dossier should be tried for Treason. The media and the Liberals who can’t get past the Clinton loss are further alienating themselves from Americans who are loving the  Happy OSS birthday, Still one of my happiest moments — it’s great to see the community grow so much in the past year. Congrats! Slip of the ⁦ Sarah Huckabee Sanders blames “slip of the tongue” for misleading comments on Comey’s firing. How many of us are scared of leaving our current jobs because of security, money or opinions? In this episode, I’ll give you my step by step tips on how you can grow your passion even with a full-time job. iTunes: SoundCloud: Richelle &amp; Marty on tvOS using Apple TV started playing Brettflix 2019-01 Final 1 at 1080p and 7502kbps ‘You Swear It’s Getting Better Every Day’ is now available. Thank all of you for making this release possible. We hope these songs find you well 💛 —- Spotify: iTunes: Vinyl: Bandcamp: Oh lovely I absolutely adore blossom My little apple tree is only just waking up :-) The peach tree has 5 embryo peaches though, so here's to hoping! Sarah Huckabee Sanders blames “slip of the tongue” for misleading comments on Comey’s firing - POLITICO. Serpent As soon as you’re born they make you feel small, By giving you no time instead of it all, Till the pain is so big you feel nothing at all, A working class hero is something to be, A working class hero is something to be. 🎶🎵🎸 Over 1 million Americans have become uninsured since 2016, government says - Vox . reporting that the Mueller Report looks BAD for ⁦ He knew the Russians were trying to interfere and in the election and did NOTHING about it. Maybe we need a Special Counsel to investigate him? Tech Youtuber's: Don't pitch yourself as \"objective\" when you clearly exude bias in your critiques of certain products. It's okay to be biased, everyone is, but be upfront about it. Don't hide behind a vail of dishonesty for likes Cramer: Delta, Apple, and Home Depot are buys as investors worry about rising labor, oil costs On April 3, 2019 Apple iPads and iPad Pros get price cuts up to $150 on Amazon Siri Shortcuts on the Mac could be Apple's replacement strategy for Automator (and AppleScript?) $AAPL Apple, Microsoft, Amazon and Google each have a higher market cap than every stock in the S&amp;P 600 combined. Nobody: Absolutely No One: Your Apple Watch: IFB - New episode up today on the most intriguing 2nd round matchups in the iTunes - Spotify - Ok ⁦ you have my attention you 3 for 3👏🏾! Current top 10 Korean songs on US Apple Music: 1. Boy With Luv 2. Kill This Love 3. HOME 4. Make It Right 5. Mikrokosmos 6. Dionysus 7. Jamais Vu 8. Intro: Persona 9. Don't Know What to Do 10. DDU-DU DDU-DU Here is a little Easter weekend present from me to you! The recipe for my Wholemeal Apple and sultana hot cross bun loaf. I hope you love it as much as we do? . .  with the Leafs in the updated Leafs app! New AR feature is out right now: iOS/App Store ( and Google Play store ( Talking &lt;MAP OF THE SOUL : on the Chart with Listen Tuesday at 11pm ET/3pm KT on SUPER JUNIOR D&amp;E's DANGER is nominated on MTV The Show! Download: Android: iOS: Voting ends: 4/22/19 ☆The Show Tutorial☆  why does the shoot videos in .mp4 but one cannot import the same videos into Final CUT, ALSO MADE BY APPLE DIRECTLY? Instead they have to b converted to .mov? (Trick Question. This really should not be a problem in 2019. Fix it, pls) Same thing I said lmaooo 🇺🇸 iTunes US: “ (+2) *NEW PEAK*  Current top 10 Korean songs on US Apple Music: 1. Boy With Luv 2. Kill This Love 3. HOME 4. Make It Right 5. Mikrokosmos 6. Dionysus 7. Jamais Vu 8. Intro: Persona 9. Don't Know What to Do 10. DDU-DU DDU-DU Iranian girls being forced into child marriage at record rate: report - Fox News Friends, Composer Joe Kraemer’s gorgeous symphonic album for ‘The Man Who Killed Hitler and then The Bigfoot’ is NOW AVAILABLE for immediate download via iTunes. Click the link below to own this classic, sweeping film score today! | Warren calls on Congress to begin impeachment proceedings against Trump - NBC News Trax with are now up on spotify and apple music and all the other shit Transmetal / Rampage  apple stop taking an eternity to do anything, get it together, please I like what they did here BRAND NEW podcast episode for your weekend!! If you downloaded the episode earlier, you may need to download it again, there was a little audio hiccup, but all is well now, great stories, and an interview with THEE :  Now available on and devices. “Brick Walls” out now 💰😤💰 Spotify: Apple Music: TIDAL: Soundcloud:  Over 1 million Americans have become uninsured since 2016, government says - Vox shared an opinion on c.r.a before but wasn’t clear this movie hit home for a lot of people, but the hard truth is, thats how it rolls, and nobody talks about it kinas phonetics with the wedding song was a symbol of the “first breath” into free territory Our new single \"social psychopath\" is OUT NOW!!!! listen to it on spotify, apple music, amazon and deezer  Don’t make the same mistake twice! Failure does not exempt us from future obedience. God is not a “one and done” Heavenly Father. Failure carries its own intrinsic lessons, and our future success depends upon our ability to learn and apply them.  Can you add some integration for attaching files in your iOS app? thankfully doesn’t do everything through its Photos app anymore. Thank you. ICYMI: our very own Apple Nguyen signed with University of St. Thomas to continue her playing career. Congratulations, Apple! We are proud of you! Happy Homecoming, everyone. ✨ Make sure to check out —Film: • Netflix: —Live Album: • Apple Music: • iTunes: • Spotify: • TIDAL: In the new we explore the hot wings &amp; hot pants-based culture of the modern American “Breastaurant.”\n"
     ]
    }
   ],
   "source": [
    "# join tweets to a single string\n",
    "words = ' '.join(data['Tweets'])\n",
    "print(words)"
   ]
  },
  {
   "cell_type": "code",
   "execution_count": 197,
   "metadata": {},
   "outputs": [
    {
     "name": "stderr",
     "output_type": "stream",
     "text": [
      "/Users/kgondaliya/PycharmProjects/private/SentimentAnalysis/venv/lib/python3.7/site-packages/ipykernel_launcher.py:3: DeprecationWarning: `imread` is deprecated!\n`imread` is deprecated in SciPy 1.0.0, and will be removed in 1.2.0.\nUse ``imageio.imread`` instead.\n  This is separate from the ipykernel package so we can avoid doing imports until\n"
     ]
    },
    {
     "data": {
      "image/png": "[encoded data removed]",
      "text/plain": [
       "<Figure size 432x288 with 1 Axes>"
      ]
     },
     "metadata": {},
     "output_type": "display_data"
    }
   ],
   "source": [
    "from scipy.misc import imread\n",
    "\n",
    "twitter_mask = imread('images/twitter_mask.png', flatten=True)\n",
    "\n",
    "\n",
    "wordcloud = WordCloud(\n",
    "                      #font_path='fonts/cabin-sketch.bold.ttf',\n",
    "                      stopwords=STOPWORDS,\n",
    "                      background_color='white',\n",
    "                      width=1800,\n",
    "                      height=1400,\n",
    "                      mask=twitter_mask\n",
    "            ).generate(words)\n",
    "\n",
    "plt.imshow(wordcloud)\n",
    "plt.axis(\"off\")\n",
    "plt.savefig('images/my_twitter_wordcloud_2.png', dpi=300)\n",
    "plt.show()"
   ]
  },
  {
   "cell_type": "code",
   "execution_count": null,
   "metadata": {},
   "outputs": [],
   "source": []
  }
 ],
 "metadata": {
  "kernelspec": {
   "display_name": "Python 2",
   "language": "python",
   "name": "python2"
  },
  "language_info": {
   "codemirror_mode": {
    "name": "ipython",
    "version": 2
   },
   "file_extension": ".py",
   "mimetype": "text/x-python",
   "name": "python",
   "nbconvert_exporter": "python",
   "pygments_lexer": "ipython2",
   "version": "2.7.6"
  }
 },
 "nbformat": 4,
 "nbformat_minor": 0
}
